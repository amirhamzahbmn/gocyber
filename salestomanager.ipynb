{
 "cells": [
  {
   "cell_type": "code",
   "execution_count": 33,
   "metadata": {},
   "outputs": [],
   "source": [
    "import pandas as pd\n",
    "import numpy as np\n",
    "import glob\n",
    "import os"
   ]
  },
  {
   "cell_type": "code",
   "execution_count": 34,
   "metadata": {},
   "outputs": [],
   "source": [
    "path = r'./gitignore/sales/'\n",
    "all_files = glob.glob(os.path.join(path , \"*.csv\"))\n",
    "\n",
    "li = []\n",
    "\n",
    "for filename in all_files:\n",
    "    df = pd.read_csv(filename, index_col=None, header=0)\n",
    "    li.append(df)\n",
    "raw_data = pd.concat(li, axis=0, ignore_index=True)"
   ]
  },
  {
   "cell_type": "code",
   "execution_count": 38,
   "metadata": {},
   "outputs": [],
   "source": [
    "manual_export = raw_data[raw_data['Payment Method'].apply(lambda row: len(str(row).split(','))) > 1].copy()\n",
    "sales_data = raw_data[raw_data['Payment Method'].apply(lambda row: len(str(row).split(','))) == 1].copy()"
   ]
  },
  {
   "cell_type": "code",
   "execution_count": 40,
   "metadata": {},
   "outputs": [],
   "source": [
    "manual_export.to_csv('./gitignore/split_payments_manualentry.csv', index=False)"
   ]
  },
  {
   "cell_type": "code",
   "execution_count": 41,
   "metadata": {},
   "outputs": [],
   "source": [
    "sales_data['Date/Time'] = pd.to_datetime(sales_data['Date/Time']).dt.date"
   ]
  },
  {
   "cell_type": "code",
   "execution_count": 44,
   "metadata": {},
   "outputs": [],
   "source": [
    "data = []\n",
    "\n",
    "def sales_to_manager_export(row):\n",
    "    entry = []\n",
    "    if row['Payment Method'] == 'Cash':\n",
    "        entry.append(str(row['Date/Time']))\n",
    "        entry.append(f\"GOSALES {row['Number']} CASH\")\n",
    "        entry.append(row['Total'])\n",
    "        entry.append('cash')\n",
    "        entry.append(row['Total'])\n",
    "        data.append(entry)\n",
    "    elif row['Payment Method'] == 'Debit Card':\n",
    "        entry.append(str(row['Date/Time']))\n",
    "        entry.append(f\"GOSALES {row['Number']} DEBIT\")\n",
    "        entry.append(row['Total'])\n",
    "        entry.append('bank')\n",
    "        entry.append(row['Total'])\n",
    "        data.append(entry)\n",
    "    elif row['Payment Method'] == 'Credit Card':\n",
    "        entry.append(str(row['Date/Time']))\n",
    "        entry.append(f\"GOSALES {row['Number']} CREDIT\")\n",
    "        entry.append(row['Total'])\n",
    "        entry.append('bank')\n",
    "        entry.append(row['Total'])\n",
    "        data.append(entry)\n",
    "    elif row['Payment Method'] == 'Others':\n",
    "        entry.append(str(row['Date/Time']))\n",
    "        entry.append(f\"GOSALES {row['Number']} XFER\")\n",
    "        entry.append(row['Total'])\n",
    "        entry.append('bank')\n",
    "        entry.append(row['Total'])\n",
    "        data.append(entry)\n",
    "\n",
    "sales_data.apply(sales_to_manager_export, axis=1)\n",
    "\n",
    "cols = ['Date', 'Narration','Lines.1.Credit', 'Lines.2.Account', 'Lines.2.Debit']\n",
    "export = pd.DataFrame(data, columns=cols)\n",
    "export['Lines.1.Account'] = 'sales'\n",
    "export.to_csv('./gitignore/export.csv', index=False)"
   ]
  }
 ],
 "metadata": {
  "kernelspec": {
   "display_name": "base",
   "language": "python",
   "name": "python3"
  },
  "language_info": {
   "codemirror_mode": {
    "name": "ipython",
    "version": 3
   },
   "file_extension": ".py",
   "mimetype": "text/x-python",
   "name": "python",
   "nbconvert_exporter": "python",
   "pygments_lexer": "ipython3",
   "version": "3.9.13"
  }
 },
 "nbformat": 4,
 "nbformat_minor": 2
}
